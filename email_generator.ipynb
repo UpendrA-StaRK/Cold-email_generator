{
 "cells": [
  {
   "cell_type": "code",
   "execution_count": null,
   "id": "eff487c0-9e85-4c87-9479-c147e405e64c",
   "metadata": {},
   "outputs": [
    {
     "name": "stdout",
     "output_type": "stream",
     "text": [
      "The first person to walk on the Moon was Neil Armstrong, an American astronaut who stepped out of the lunar module Eagle and onto the Moon's surface on July 20, 1969, during the Apollo 11 mission. Armstrong famously declared, \"That's one small step for man, one giant leap for mankind,\" as he became the first human to set foot on the Moon.\n",
      "\n",
      "However, it's worth noting that Armstrong was not the first person to land on the Moon. That distinction belongs to Edwin \"Buzz\" Aldrin, who was the second person to walk on the Moon and the first person to do so while still in the lunar module's descent stage. Armstrong and Aldrin spent about two and a half hours on the Moon's surface, collecting samples and conducting experiments.\n"
     ]
    }
   ],
   "source": [
    "from langchain_groq import ChatGroq\n",
    "\n",
    "llm = ChatGroq(\n",
    "    groq_api_key='',\n",
    "    model=\"llama3-8b-8192\",\n",
    "    temperature=0,\n",
    ")\n",
    "response = llm.invoke(\"the first person to land on moon was...\")\n",
    "print(response.content)"
   ]
  },
  {
   "cell_type": "code",
   "execution_count": 2,
   "id": "a136216a-216b-4bd7-b372-2c2fcf3a432b",
   "metadata": {},
   "outputs": [
    {
     "name": "stderr",
     "output_type": "stream",
     "text": [
      "USER_AGENT environment variable not set, consider setting it to identify your requests.\n"
     ]
    },
    {
     "name": "stdout",
     "output_type": "stream",
     "text": [
      "Software Engineer, University Graduate, 2026 — Google CareersCareersCareersSkip navigation linkshomehomeHomeHomework_outlinework_outlineJobsJobsnoogler_hatnoogler_hatStudentsStudentsgooglegoogleHow we workHow we workhandymanhandymanHow we hireHow we hireperson_outlineperson_outlineYour careerYour careerhelp_outlineHelp linkfeedbackSend feedbackmore_vert HelpSend FeedbackSign inCareersCareershomeHomework_outlineJobsexpand_morenoogler_hatStudentsexpand_moregoogleHow we workexpand_morehandymanHow we hireexpand_moreperson_outlineYour careerexpand_morejob detailsarrow_backBack to jobs searchJobs search results2,830  jobs matchedSenior Software Engineer, Android PartnerWarsaw, PolandSenior Software Engineer, Google Cloud DataprocSunnyvale, CA, USASoftware Engineer III, Google CloudBengaluru, Karnataka, India; Hyderabad, Telangana, IndiaAccount Manager, Large Customer Sales (English, Thai)Bangkok, ThailandDatabase Sales Specialist Manager, Google CloudSingaporeCustomer Engineer, Migration, Google CloudTaipei, TaiwanSecurity Sales Specialist, Small/Medium Businesses (German)Dublin, IrelandSoftware EngineerSydney NSW, AustraliaOptics Hardware EngineerMountain View, CA, USAStrategic Partner Manager, Large Partner, Sellside MonetizationBeijing, China; Shanghai, ChinaEngineering Manager, Unified Autoscaling TeamWarsaw, PolandJunior Design Engineer, Google Cloud, NetworkTel Aviv, Israel; Haifa, IsraelAccount Strategist, SBS Engage, GCS, (Ukrainian, English)Dublin, IrelandSenior System Software Engineer, Embedded Systems, Firmware, PixelNew Taipei, Banqiao District, New Taipei City, TaiwanSoftware Engineer, gReach Program for People with Disabilities (장애인 채용)Seoul, South KoreaStrategic Partnerships Development Manager, Global News Programs, PartnershipsNew York, NY, USA; Mountain View, CA, USA; +5 more; +4 moreProgram Manager, AI Data OperationsHyderabad, Telangana, India; Bengaluru, Karnataka, IndiaAccount Executive, Mid-Market Sales, Google Customer Solutions (Polish, English)Dublin, IrelandSenior Technical Program Manager, Infrastructure Deployment SoftwareSunnyvale, CA, USAAccount Manager, Agency, Large Customer SalesTokyo, Japan1‑20 of 2830navigate_nextFollow Life at Google on More about usAbout usopen_in_newContact usopen_in_newPressopen_in_newRelated InformationInvestor relationsopen_in_newBlogopen_in_newEqual OpportunityGoogle is proud to be an equal opportunity and affirmative action employer. We are committed to building a workforce that is representative of the users we serve, creating a culture of belonging, and providing an equal employment opportunity regardless of race, creed, color, religion, gender, sexual orientation, gender identity/expression, national origin, disability, age, genetic information, veteran status, marital status, pregnancy or related condition (including breastfeeding), expecting or parents-to-be, criminal histories consistent with legal requirements, or any other basis protected by law. See also  Google's EEO Policy, Know your rights: workplace discrimination is illegal, Belonging at Google, and How we hire.More about usexpand_moreRelated informationexpand_moreEqual opportunityexpand_morePrivacyopen_in_newApplicant & Candidate Privacyopen_in_newTermsopen_in_newManage cookieshelpHelpopen_in_newarrow_backBack to jobs searchSoftware Engineer, University Graduate, 2026share linkCopy linkemailEmail a friendcorporate_fareGoogleplaceBengaluru, Karnataka, India; Gurugram, Haryana, India; +4 more; +3 morebar_chartEarlyEarlyExperience completing work as directed, and collaborating with teammates; developing knowledge of relevant concepts and processes.Applyshare linkCopy linkemailEmail a friendinfo_outlineXNote: By applying to this position you will have an opportunity to share your preferred working location from the following: Bengaluru, Karnataka, India; Gurugram, Haryana, India; Hyderabad, Telangana, India; Mumbai, Maharashtra, India; Pune, Maharashtra, India.Minimum qualifications:\n",
      "Bachelor's degree or equivalent practical experience.\n",
      "Experience working with Unix/Linux environments, distributed systems, machine learning, information retrieval, and TCP/IP.\n",
      "Experience programming in C, C++, Java, or Python.\n",
      "Preferred qualifications:\n",
      "Bachelor's degree or advanced degree in Computer Science or Computer Engineering, or a related field.\n",
      "About the jobGoogle's software engineers develop the next-generation technologies that change how billions of users connect, explore, and interact with information and one another. Our products need to handle information at massive scale, and extend well beyond web search. We're looking for engineers who bring fresh ideas from all areas, including information retrieval, distributed computing, large-scale system design, networking and data storage, security, artificial intelligence, natural language processing, UI design and mobile; the list goes on and is growing every day. As a software engineer, you will work on a specific project critical to Google’s needs with opportunities to switch teams and projects as you and our fast-paced business grow and evolve. We need our engineers to be versatile, display leadership qualities and be enthusiastic to take on new problems across the full-stack as we continue to push technology forward.As a key member of a small and versatile team, you design, test, deploy and maintain software solutions.\n",
      "Google is an engineering company at heart. We hire people with a broad set of technical skills who are ready to take on some of technology's greatest challenges and make an impact on users around the world. At Google, engineers not only revolutionize search, they routinely work on scalability and storage solutions, large-scale applications and entirely new platforms for developers around the world. From Google Ads to Chrome, Android to YouTube, social to local, Google engineers are changing the world one technological achievement after another.Responsibilities\n",
      "Research, conceive, and develop software applications to extend and improve on Google's product offering.\n",
      "Contribute to a wide variety of projects utilizing natural language processing, artificial intelligence, data compression, machine learning, and search technologies.\n",
      "Collaborate on scalability issues involving access to data and information.\n",
      "Solve challenges/problems that you are presented with.\n",
      "Information collected and processed as part of your Google Careers profile, and any job applications you choose to submit is subject to Google's Applicant and Candidate Privacy Policy.Google is proud to be an equal opportunity and affirmative action employer. We are committed to building a workforce that is representative of the users we serve, creating a culture of belonging, and providing an equal employment opportunity regardless of race, creed, color, religion, gender, sexual orientation, gender identity/expression, national origin, disability, age, genetic information, veteran status, marital status, pregnancy or related condition (including breastfeeding), expecting or parents-to-be, criminal histories consistent with legal requirements, or any other basis protected by law. See also  Google's EEO Policy, Know your rights: workplace discrimination is illegal, Belonging at Google, and How we hire.If you have a need that requires accommodation, please let us know by completing our Accommodations for Applicants form.Google is a global company and, in order to facilitate efficient collaboration and communication globally, English proficiency is a requirement for all roles unless stated otherwise in the job posting.To all recruitment agencies: Google does not accept agency resumes. Please do not forward resumes to our jobs alias, Google employees, or any other organization location. Google is not responsible for any fees related to unsolicited resumes.Follow Life at Google on More about usAbout usopen_in_newContact usopen_in_newPressopen_in_newRelated InformationInvestor relationsopen_in_newBlogopen_in_newEqual OpportunityGoogle is proud to be an equal opportunity and affirmative action employer. We are committed to building a workforce that is representative of the users we serve, creating a culture of belonging, and providing an equal employment opportunity regardless of race, creed, color, religion, gender, sexual orientation, gender identity/expression, national origin, disability, age, genetic information, veteran status, marital status, pregnancy or related condition (including breastfeeding), expecting or parents-to-be, criminal histories consistent with legal requirements, or any other basis protected by law. See also  Google's EEO Policy, Know your rights: workplace discrimination is illegal, Belonging at Google, and How we hire.More about usexpand_moreRelated informationexpand_moreEqual opportunityexpand_morePrivacyopen_in_newApplicant & Candidate Privacyopen_in_newTermsopen_in_newManage cookieshelpHelpopen_in_newFollow Life at Google on More about usAbout usopen_in_newContact usopen_in_newPressopen_in_newRelated InformationInvestor relationsopen_in_newBlogopen_in_newEqual OpportunityGoogle is proud to be an equal opportunity and affirmative action employer. We are committed to building a workforce that is representative of the users we serve, creating a culture of belonging, and providing an equal employment opportunity regardless of race, creed, color, religion, gender, sexual orientation, gender identity/expression, national origin, disability, age, genetic information, veteran status, marital status, pregnancy or related condition (including breastfeeding), expecting or parents-to-be, criminal histories consistent with legal requirements, or any other basis protected by law. See also  Google's EEO Policy, Know your rights: workplace discrimination is illegal, Belonging at Google, and How we hire.More about usexpand_moreRelated informationexpand_moreEqual opportunityexpand_morePrivacyopen_in_newApplicant & Candidate Privacyopen_in_newTermsopen_in_newManage cookieshelpHelpopen_in_newGoogle appsMain menu\n"
     ]
    }
   ],
   "source": [
    "from langchain_community.document_loaders import WebBaseLoader\n",
    "loader = WebBaseLoader(\"https://www.google.com/about/careers/applications/jobs/results/111007517923779270-software-engineer-university-graduate-2026\")\n",
    "page_data = loader.load().pop().page_content\n",
    "print(page_data)"
   ]
  },
  {
   "cell_type": "code",
   "execution_count": 3,
   "id": "fd48a5bf-aa4a-40ca-88c5-8ab94a3f5bbd",
   "metadata": {},
   "outputs": [
    {
     "name": "stdout",
     "output_type": "stream",
     "text": [
      "[\n",
      "  {\n",
      "    \"role\": \"Software Engineer\",\n",
      "    \"experience\": \"University Graduate, 2026\",\n",
      "    \"skills\": \"Unix/Linux environments, distributed systems, machine learning, information retrieval, TCP/IP, C, C++, Java, Python\",\n",
      "    \"description\": \"Research, conceive, and develop software applications to extend and improve on Google's product offering. Contribute to a wide variety of projects utilizing natural language processing, artificial intelligence, data compression, machine learning, and search technologies.\"\n",
      "  }\n",
      "]\n"
     ]
    }
   ],
   "source": [
    "from langchain_core.prompts import PromptTemplate\n",
    "prompt_extract = PromptTemplate.from_template(\n",
    "    \"\"\"\n",
    "    ### SCRAPED TEXT FROM WEBSITE:\n",
    "    {page_data}\n",
    "\n",
    "    ### INSTRUCTION:\n",
    "    You are an expert job posting extractor. The above content is scraped from a job listing website.\n",
    "\n",
    "    Your task is to extract all relevant job postings from the text and return them in **strict JSON format**.\n",
    "\n",
    "    Each JSON object must contain the following keys:\n",
    "    - \"role\"\n",
    "    - \"experience\"\n",
    "    - \"skills\"\n",
    "    - \"description\"\n",
    "\n",
    "    Do NOT include any introduction, explanation, or preamble.  \n",
    "    Respond with **JSON only** — not Markdown, not prose, just the JSON.  \n",
    "    Do NOT use triple backticks or text like \"Here is the JSON:\"  \n",
    "    If information is missing, use an empty string.\n",
    "\n",
    "    ### OUTPUT FORMAT:\n",
    "    [\n",
    "      {{\n",
    "        \"role\": \"...\",\n",
    "        \"experience\": \"...\",\n",
    "        \"skills\": \"...\",\n",
    "        \"description\": \"...\"\n",
    "      }},\n",
    "      ...\n",
    "    ]\n",
    "    \"\"\"\n",
    ")\n",
    "\n",
    "chain_extract = prompt_extract | llm\n",
    "res = chain_extract.invoke(input={'page_data': page_data })\n",
    "print(res.content)"
   ]
  },
  {
   "cell_type": "code",
   "execution_count": 4,
   "id": "81a18bc6-3f00-42a0-b8dc-c1393d65be09",
   "metadata": {},
   "outputs": [],
   "source": [
    "from langchain_core.output_parsers import JsonOutputParser\n",
    "\n",
    "json_parser = JsonOutputParser()\n",
    "json_res = json_parser.parse(res.content)\n",
    "\n",
    "# Convert list to dict (if it's a single-item list)\n",
    "if isinstance(json_res, list) and len(json_res) == 1:\n",
    "    json_res = json_res[0]  # Now it's a dict\n"
   ]
  },
  {
   "cell_type": "code",
   "execution_count": 5,
   "id": "0907ccc3-ac7d-493d-b6b2-c7ff5d9f7669",
   "metadata": {},
   "outputs": [
    {
     "data": {
      "text/plain": [
       "dict"
      ]
     },
     "execution_count": 5,
     "metadata": {},
     "output_type": "execute_result"
    }
   ],
   "source": [
    "type(json_res)"
   ]
  },
  {
   "cell_type": "code",
   "execution_count": 6,
   "id": "f7b46a4e-4baa-4264-9c21-7367ea83d67d",
   "metadata": {},
   "outputs": [
    {
     "name": "stdout",
     "output_type": "stream",
     "text": [
      "CSV file 'myportfolio.csv' created successfully.\n"
     ]
    }
   ],
   "source": [
    "import pandas as pd\n",
    "\n",
    "# Define your data\n",
    "data = {\n",
    "    \"TechStack\": [\n",
    "        \"Python, Streamlit, LLaMA\",\n",
    "        \"React, Node.js, MongoDB\",\n",
    "        \"C++, Qt, Terminal Emulator\",\n",
    "        \"Data Analysis\",\n",
    "        \"Generative AI, LangChain, Hugging Face\",\n",
    "        \"DSA, OOPs, Problem Solving\"\n",
    "    ],\n",
    "    \"Links\": [\n",
    "        \"https://github.com/UpendrA-StaRK/TaxEase\",\n",
    "        \"https://github.com/UpendrA-StaRK/TaxEase\",\n",
    "        \"https://github.com/UpendrA-StaRK/Term_Emulator\",\n",
    "        \"https://github.com/UpendrA-StaRK/MedEase_WebApp\",\n",
    "        \"https://github.com/cold-email-generator\",\n",
    "        \"https://leetcode.com/u/upendra_paluru_/\"\n",
    "    ]\n",
    "}\n",
    "\n",
    "# Create DataFrame\n",
    "df = pd.DataFrame(data)\n",
    "\n",
    "# Save to CSV\n",
    "df.to_csv(\"myportfolio.csv\", index=False)\n",
    "\n",
    "print(\"CSV file 'myportfolio.csv' created successfully.\")\n"
   ]
  },
  {
   "cell_type": "code",
   "execution_count": 7,
   "id": "d2e9d119-a855-49cc-8f48-fded14c44a7a",
   "metadata": {},
   "outputs": [
    {
     "data": {
      "text/html": [
       "<div>\n",
       "<style scoped>\n",
       "    .dataframe tbody tr th:only-of-type {\n",
       "        vertical-align: middle;\n",
       "    }\n",
       "\n",
       "    .dataframe tbody tr th {\n",
       "        vertical-align: top;\n",
       "    }\n",
       "\n",
       "    .dataframe thead th {\n",
       "        text-align: right;\n",
       "    }\n",
       "</style>\n",
       "<table border=\"1\" class=\"dataframe\">\n",
       "  <thead>\n",
       "    <tr style=\"text-align: right;\">\n",
       "      <th></th>\n",
       "      <th>TechStack</th>\n",
       "      <th>Links</th>\n",
       "    </tr>\n",
       "  </thead>\n",
       "  <tbody>\n",
       "    <tr>\n",
       "      <th>0</th>\n",
       "      <td>Python, Streamlit, LLaMA</td>\n",
       "      <td>https://github.com/UpendrA-StaRK/TaxEase</td>\n",
       "    </tr>\n",
       "    <tr>\n",
       "      <th>1</th>\n",
       "      <td>React, Node.js, MongoDB</td>\n",
       "      <td>https://github.com/UpendrA-StaRK/TaxEase</td>\n",
       "    </tr>\n",
       "    <tr>\n",
       "      <th>2</th>\n",
       "      <td>C++, Qt, Terminal Emulator</td>\n",
       "      <td>https://github.com/UpendrA-StaRK/Term_Emulator</td>\n",
       "    </tr>\n",
       "    <tr>\n",
       "      <th>3</th>\n",
       "      <td>Data Analysis</td>\n",
       "      <td>https://github.com/UpendrA-StaRK/MedEase_WebApp</td>\n",
       "    </tr>\n",
       "    <tr>\n",
       "      <th>4</th>\n",
       "      <td>Generative AI, LangChain, Hugging Face</td>\n",
       "      <td>https://github.com/cold-email-generator</td>\n",
       "    </tr>\n",
       "    <tr>\n",
       "      <th>5</th>\n",
       "      <td>DSA, OOPs, Problem Solving</td>\n",
       "      <td>https://leetcode.com/u/upendra_paluru_/</td>\n",
       "    </tr>\n",
       "  </tbody>\n",
       "</table>\n",
       "</div>"
      ],
      "text/plain": [
       "                                TechStack  \\\n",
       "0                Python, Streamlit, LLaMA   \n",
       "1                 React, Node.js, MongoDB   \n",
       "2              C++, Qt, Terminal Emulator   \n",
       "3                           Data Analysis   \n",
       "4  Generative AI, LangChain, Hugging Face   \n",
       "5              DSA, OOPs, Problem Solving   \n",
       "\n",
       "                                             Links  \n",
       "0         https://github.com/UpendrA-StaRK/TaxEase  \n",
       "1         https://github.com/UpendrA-StaRK/TaxEase  \n",
       "2   https://github.com/UpendrA-StaRK/Term_Emulator  \n",
       "3  https://github.com/UpendrA-StaRK/MedEase_WebApp  \n",
       "4          https://github.com/cold-email-generator  \n",
       "5          https://leetcode.com/u/upendra_paluru_/  "
      ]
     },
     "execution_count": 7,
     "metadata": {},
     "output_type": "execute_result"
    }
   ],
   "source": [
    "df"
   ]
  },
  {
   "cell_type": "code",
   "execution_count": 8,
   "id": "494a0245-fc7e-47d8-8982-860b5d5bee94",
   "metadata": {},
   "outputs": [
    {
     "name": "stderr",
     "output_type": "stream",
     "text": [
      "Failed to send telemetry event ClientStartEvent: capture() takes 1 positional argument but 3 were given\n",
      "Failed to send telemetry event ClientCreateCollectionEvent: capture() takes 1 positional argument but 3 were given\n",
      "Failed to send telemetry event CollectionAddEvent: capture() takes 1 positional argument but 3 were given\n"
     ]
    }
   ],
   "source": [
    "import chromadb\n",
    "import uuid\n",
    "client = chromadb.PersistentClient('vectorstore')\n",
    "collection = client.get_or_create_collection(name=\"portfolio\")\n",
    "if not collection.count():\n",
    "    for _, row in df.iterrows():\n",
    "        collection.add(documents=row[\"TechStack\"],\n",
    "                       metadatas={\"links\":row[\"Links\"]},\n",
    "                       ids=[str(uuid.uuid4())])"
   ]
  },
  {
   "cell_type": "code",
   "execution_count": 11,
   "id": "a745c34b-e7ac-463a-afc1-e6a69d97eba8",
   "metadata": {},
   "outputs": [
    {
     "name": "stderr",
     "output_type": "stream",
     "text": [
      "Failed to send telemetry event CollectionQueryEvent: capture() takes 1 positional argument but 3 were given\n"
     ]
    }
   ],
   "source": [
    "links = collection.query(query_texts=job['skills'],\n",
    "                         n_results=2).get('metadatas',[])"
   ]
  },
  {
   "cell_type": "code",
   "execution_count": 12,
   "id": "ea4c8f28-ce8c-4606-b8b2-a8bafa8f6d1a",
   "metadata": {},
   "outputs": [
    {
     "data": {
      "text/plain": [
       "[[{'links': 'https://github.com/UpendrA-StaRK/TaxEase'},\n",
       "  {'links': 'https://github.com/UpendrA-StaRK/Term_Emulator'}]]"
      ]
     },
     "execution_count": 12,
     "metadata": {},
     "output_type": "execute_result"
    }
   ],
   "source": [
    "links"
   ]
  },
  {
   "cell_type": "code",
   "execution_count": 10,
   "id": "7167adf4-cb15-4812-9858-633fef0f5c95",
   "metadata": {},
   "outputs": [
    {
     "name": "stdout",
     "output_type": "stream",
     "text": [
      "Unix/Linux environments, distributed systems, machine learning, information retrieval, TCP/IP, C, C++, Java, Python\n"
     ]
    }
   ],
   "source": [
    "job = json_res\n",
    "print(job['skills'])    # access the \"skills\" field"
   ]
  },
  {
   "cell_type": "code",
   "execution_count": 13,
   "id": "33484b97-b45a-4713-a695-3dc127164543",
   "metadata": {},
   "outputs": [
    {
     "name": "stdout",
     "output_type": "stream",
     "text": [
      "Subject: Excited to Apply for Software Engineer Role at Google\n",
      "\n",
      "Dear Hiring Manager,\n",
      "\n",
      "I came across the Software Engineer role at Google and was impressed by the opportunity to contribute to a wide variety of projects utilizing natural language processing, artificial intelligence, data compression, machine learning, and search technologies. With my background in software engineering and passion for building smart solutions, I believe I would be a great fit for this role.\n",
      "\n",
      "As a university graduate with a strong foundation in computer science, I have developed a range of skills in Unix/Linux environments, distributed systems, machine learning, information retrieval, TCP/IP, C, C++, Java, and Python. My experience with these technologies has allowed me to deliver impactful projects, such as:\n",
      "\n",
      "* TaxEase (https://github.com/UpendrA-StaRK/TaxEase): A tax preparation platform that utilizes machine learning to provide personalized tax advice and automate the filing process. This project showcases my ability to design and develop scalable software applications.\n",
      "* Term_Emulator (https://github.com/UpendrA-StaRK/Term_Emulator): A terminal emulator that utilizes natural language processing to provide a more intuitive user interface. This project demonstrates my expertise in information retrieval and search technologies.\n",
      "\n",
      "I am excited about the opportunity to bring my skills and experience to Google and contribute to the development of innovative software applications. I would welcome the chance to discuss my application and how I can help drive impact at Google.\n",
      "\n",
      "Thank you for considering my application. I look forward to the opportunity to discuss this further.\n",
      "\n",
      "Best regards,\n",
      "Upendra Paluru\n"
     ]
    }
   ],
   "source": [
    "prompt_email = PromptTemplate.from_template(\n",
    "    \"\"\"\n",
    "    ### JOB DESCRIPTION:\n",
    "    {job_description}\n",
    "    \n",
    "    ### INSTRUCTION:\n",
    "    You are Upendra Paluru, a passionate software engineer who builds smart, tailored solutions across AI, full-stack, and automation.\n",
    "    Your goal is to write a cold email expressing interest in the job above, showcasing your ability to deliver impact using\n",
    "    relevant projects from your resume.\n",
    "\n",
    "    Add the most relevant ones from the following portfolio link: {link_list}\n",
    "\n",
    "    Keep it direct, professional, and focused on how you can help them.  \n",
    "    No preamble.\n",
    "\n",
    "    ### EMAIL (NO PREAMBLE):\n",
    "    \"\"\"\n",
    ")\n",
    "chain_email = prompt_email | llm\n",
    "res = chain_email.invoke({\"job_description\": str(job), \"link_list\": links})\n",
    "print(res.content)"
   ]
  }
 ],
 "metadata": {
  "kernelspec": {
   "display_name": "Python 3",
   "language": "python",
   "name": "python3"
  },
  "language_info": {
   "codemirror_mode": {
    "name": "ipython",
    "version": 3
   },
   "file_extension": ".py",
   "mimetype": "text/x-python",
   "name": "python",
   "nbconvert_exporter": "python",
   "pygments_lexer": "ipython3",
   "version": "3.12.10"
  }
 },
 "nbformat": 4,
 "nbformat_minor": 5
}
